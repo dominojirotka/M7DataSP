{
  "nbformat": 4,
  "nbformat_minor": 0,
  "metadata": {
    "colab": {
      "provenance": [],
      "authorship_tag": "ABX9TyN5vKKtUrthx1FjMbmhr5LY",
      "include_colab_link": true
    },
    "kernelspec": {
      "name": "python3",
      "display_name": "Python 3"
    },
    "language_info": {
      "name": "python"
    }
  },
  "cells": [
    {
      "cell_type": "markdown",
      "metadata": {
        "id": "view-in-github",
        "colab_type": "text"
      },
      "source": [
        "<a href=\"https://colab.research.google.com/github/dominojirotka/M7DataSP/blob/main/jirotka_tokens_num.ipynb\" target=\"_parent\"><img src=\"https://colab.research.google.com/assets/colab-badge.svg\" alt=\"Open In Colab\"/></a>"
      ]
    },
    {
      "cell_type": "code",
      "execution_count": 16,
      "metadata": {
        "colab": {
          "base_uri": "https://localhost:8080/"
        },
        "id": "lVRgklEGk6BW",
        "outputId": "e0cb2195-7a66-4f8b-cf47-beaf0e41f40b"
      },
      "outputs": [
        {
          "output_type": "stream",
          "name": "stderr",
          "text": [
            "Repo card metadata block was not found. Setting CardData to empty.\n",
            "WARNING:huggingface_hub.repocard:Repo card metadata block was not found. Setting CardData to empty.\n"
          ]
        },
        {
          "output_type": "stream",
          "name": "stdout",
          "text": [
            "Total number of tokens in the dataset: 1302222\n"
          ]
        }
      ],
      "source": [
        "from datasets import load_dataset\n",
        "from transformers import BertTokenizer\n",
        "\n",
        "dataset = load_dataset('xguman/hw5_text_dataset')\n",
        "\n",
        "tokenizer = BertTokenizer.from_pretrained('bert-base-uncased')\n",
        "\n",
        "def count_tokens(examples):\n",
        "\n",
        "    tokenized_inputs = tokenizer(examples['text'], add_special_tokens=False, truncation=True, max_length=512)\n",
        "\n",
        "    return {'token_count': [len(ids) for ids in tokenized_inputs['input_ids']]}\n",
        "\n",
        "tokenized_dataset = dataset.map(count_tokens, batched=True)\n",
        "\n",
        "total_tokens = sum(tokenized_dataset['train']['token_count'])\n",
        "\n",
        "print(f'Total number of tokens in the dataset: {total_tokens}')"
      ]
    }
  ]
}